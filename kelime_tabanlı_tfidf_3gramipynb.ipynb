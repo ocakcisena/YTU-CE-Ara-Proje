{
  "nbformat": 4,
  "nbformat_minor": 0,
  "metadata": {
    "colab": {
      "name": "kelime_tabanlı_tfidf_3gramipynb",
      "version": "0.3.2",
      "provenance": [],
      "collapsed_sections": []
    },
    "kernelspec": {
      "name": "python3",
      "display_name": "Python 3"
    }
  },
  "cells": [
    {
      "metadata": {
        "id": "6cDhOgUhB2m6",
        "colab_type": "code",
        "colab": {}
      },
      "cell_type": "code",
      "source": [
        "import pandas as pd\n",
        "import numpy as np\n",
        "from sklearn.feature_extraction.text import TfidfVectorizer\n",
        "import xgboost \n",
        "from sklearn import model_selection, preprocessing, linear_model, naive_bayes, metrics, svm\n",
        "from sklearn import decomposition, ensemble"
      ],
      "execution_count": 0,
      "outputs": []
    },
    {
      "metadata": {
        "id": "eG0EPBvDqrO4",
        "colab_type": "text"
      },
      "cell_type": "markdown",
      "source": [
        "BU PROGRAMDA KELİME TABANLI 3-GRAM TF-IDF VECTORIZER ICIN KLASİK YÖNTEMLERİN BAŞARI SONUÇLARI ELDE EDİLMİŞTİR"
      ]
    },
    {
      "metadata": {
        "id": "1nQ41pSpKCGG",
        "colab_type": "code",
        "colab": {}
      },
      "cell_type": "code",
      "source": [
        "train=pd.read_excel(\"clean_tweet_train.xlsx\")\n",
        "test=pd.read_excel(\"clean_tweet_test.xlsx\")\n"
      ],
      "execution_count": 0,
      "outputs": []
    },
    {
      "metadata": {
        "id": "CJs9s3KZEgEY",
        "colab_type": "code",
        "colab": {}
      },
      "cell_type": "code",
      "source": [
        "Train = train.append(test, ignore_index=True).fillna(' ')"
      ],
      "execution_count": 0,
      "outputs": []
    },
    {
      "metadata": {
        "id": "PMOeuKpsKHTc",
        "colab_type": "code",
        "outputId": "78e7522c-07ac-480d-973a-b6666d57aa8d",
        "colab": {
          "base_uri": "https://localhost:8080/",
          "height": 165
        }
      },
      "cell_type": "code",
      "source": [
        "test.dropna(inplace=True)\n",
        "test.reset_index(drop=True,inplace=True)\n",
        "test.info()"
      ],
      "execution_count": 0,
      "outputs": [
        {
          "output_type": "stream",
          "text": [
            "<class 'pandas.core.frame.DataFrame'>\n",
            "RangeIndex: 3456 entries, 0 to 3455\n",
            "Data columns (total 2 columns):\n",
            "text         3456 non-null object\n",
            "sentiment    3456 non-null int64\n",
            "dtypes: int64(1), object(1)\n",
            "memory usage: 54.1+ KB\n"
          ],
          "name": "stdout"
        }
      ]
    },
    {
      "metadata": {
        "id": "8tsSUPyJKLdZ",
        "colab_type": "code",
        "outputId": "bb31b248-2a16-4f53-a0d3-fc59fdc816d6",
        "colab": {
          "base_uri": "https://localhost:8080/",
          "height": 145
        }
      },
      "cell_type": "code",
      "source": [
        "train.dropna(inplace=True)\n",
        "train.reset_index(drop=True,inplace=True)\n",
        "train.info()"
      ],
      "execution_count": 0,
      "outputs": [
        {
          "output_type": "stream",
          "text": [
            "<class 'pandas.core.frame.DataFrame'>\n",
            "RangeIndex: 13831 entries, 0 to 13830\n",
            "Data columns (total 2 columns):\n",
            "text         13831 non-null object\n",
            "sentiment    13831 non-null int64\n",
            "dtypes: int64(1), object(1)\n",
            "memory usage: 216.2+ KB\n"
          ],
          "name": "stdout"
        }
      ]
    },
    {
      "metadata": {
        "id": "vLB3bg9x6GWS",
        "colab_type": "code",
        "colab": {}
      },
      "cell_type": "code",
      "source": [
        "x_train=train.text.tolist()\n",
        "y_train=train.sentiment.tolist()\n",
        "x_test=test.text.tolist()\n",
        "y_test=test.sentiment.tolist()"
      ],
      "execution_count": 0,
      "outputs": []
    },
    {
      "metadata": {
        "id": "2RoDt99_KOjQ",
        "colab_type": "code",
        "colab": {}
      },
      "cell_type": "code",
      "source": [
        "# kelime tabanlı tf-idf\n",
        "tfidf = TfidfVectorizer(analyzer='word', ngram_range=(1,3))\n",
        "tfidf.fit(Train['text'])\n",
        "xtrain_tfidf =  tfidf.transform(x_train)\n",
        "xtest_tfidf =  tfidf.transform(x_test)"
      ],
      "execution_count": 0,
      "outputs": []
    },
    {
      "metadata": {
        "id": "C52o4lxJKhZe",
        "colab_type": "code",
        "colab": {}
      },
      "cell_type": "code",
      "source": [
        "def model_training(classifier, vector_train, y_train, vector_test):\n",
        "    classifier.fit(vector_train, y_train)\n",
        "    predictions = classifier.predict(vector_test)\n",
        "   \n",
        "    \n",
        "    return metrics.accuracy_score(predictions, y_test)"
      ],
      "execution_count": 0,
      "outputs": []
    },
    {
      "metadata": {
        "id": "5S0m_35ULqYx",
        "colab_type": "code",
        "outputId": "66ce1901-2754-438b-d4ef-f1dce5d73f9b",
        "colab": {
          "base_uri": "https://localhost:8080/",
          "height": 35
        }
      },
      "cell_type": "code",
      "source": [
        "# Naive Bayes \n",
        "accuracy = model_training(naive_bayes.MultinomialNB(), xtrain_tfidf, y_train, xtest_tfidf )\n",
        "print (\"NB, kelime tabanlı TF-IDF:% \", accuracy*100)"
      ],
      "execution_count": 0,
      "outputs": [
        {
          "output_type": "stream",
          "text": [
            "NB, kelime tabanlı TF-IDF:%  66.11689814814815\n"
          ],
          "name": "stdout"
        }
      ]
    },
    {
      "metadata": {
        "id": "KbgnrBcjMIxM",
        "colab_type": "code",
        "outputId": "794f2652-880d-4f4b-8d4f-a88325846f3c",
        "colab": {
          "base_uri": "https://localhost:8080/",
          "height": 35
        }
      },
      "cell_type": "code",
      "source": [
        "# Logistic Regression\n",
        "accuracy = model_training(linear_model.LogisticRegression(solver='newton-cg',multi_class='multinomial'), xtrain_tfidf,  y_train, xtest_tfidf)\n",
        "print (\"LR, kelime tabanlı TF-IDF:%\", accuracy*100)"
      ],
      "execution_count": 0,
      "outputs": [
        {
          "output_type": "stream",
          "text": [
            "LR, kelime tabanlı TF-IDF:% 67.12962962962963\n"
          ],
          "name": "stdout"
        }
      ]
    },
    {
      "metadata": {
        "id": "BcPywTl5MZVY",
        "colab_type": "code",
        "outputId": "ace2ba0d-35d3-4cfd-f8ec-d74e92cefe6a",
        "colab": {
          "base_uri": "https://localhost:8080/",
          "height": 35
        }
      },
      "cell_type": "code",
      "source": [
        "# SVM \n",
        "accuracy =  model_training(svm.SVC(kernel='linear'), xtrain_tfidf, y_train,  xtest_tfidf)\n",
        "print (\"SVM,  kelime tabanlı TF-IDF::%\", accuracy*100)"
      ],
      "execution_count": 0,
      "outputs": [
        {
          "output_type": "stream",
          "text": [
            "SVM,  kelime tabanlı TF-IDF::% 69.76273148148148\n"
          ],
          "name": "stdout"
        }
      ]
    },
    {
      "metadata": {
        "id": "u0S1SNadMuI2",
        "colab_type": "code",
        "outputId": "2c836960-183d-4aea-e9a3-7c1e7129a131",
        "colab": {
          "base_uri": "https://localhost:8080/",
          "height": 35
        }
      },
      "cell_type": "code",
      "source": [
        "# Random forest\n",
        "accuracy =   model_training(ensemble.RandomForestClassifier(n_estimators=100), xtrain_tfidf, y_train, xtest_tfidf)\n",
        "print (\"RF, kelime tabanlı TF-IDF:% \", accuracy*100)"
      ],
      "execution_count": 0,
      "outputs": [
        {
          "output_type": "stream",
          "text": [
            "RF, kelime tabanlı TF-IDF:%  65.04629629629629\n"
          ],
          "name": "stdout"
        }
      ]
    },
    {
      "metadata": {
        "id": "v2tFJyUhNSbG",
        "colab_type": "code",
        "outputId": "cfda318d-2a6a-4291-abfb-4451658b4c7e",
        "colab": {
          "base_uri": "https://localhost:8080/",
          "height": 35
        }
      },
      "cell_type": "code",
      "source": [
        "# Extereme Gradient Boosting \n",
        "accuracy = model_training(xgboost.XGBClassifier(booster='gblinear'), xtrain_tfidf.tocsc(), y_train, xtest_tfidf.tocsc())\n",
        "print (\"Xgb, kelime tabanlı TF-IDF:% \", accuracy*100)"
      ],
      "execution_count": 0,
      "outputs": [
        {
          "output_type": "stream",
          "text": [
            "Xgb, kelime tabanlı TF-IDF:%  67.24537037037037\n"
          ],
          "name": "stdout"
        }
      ]
    }
  ]
}